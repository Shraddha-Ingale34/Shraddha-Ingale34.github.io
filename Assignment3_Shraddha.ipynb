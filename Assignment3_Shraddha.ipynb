{
  "nbformat": 4,
  "nbformat_minor": 0,
  "metadata": {
    "colab": {
      "name": "Assignment3_Shraddha.ipynb",
      "provenance": [],
      "collapsed_sections": [],
      "mount_file_id": "1AFlKJQmhacwXqlu73U6BFnDV_GzY0wcy",
      "authorship_tag": "ABX9TyMvR7hl4uNloF612+AsEzBz",
      "include_colab_link": true
    },
    "kernelspec": {
      "name": "python3",
      "display_name": "Python 3"
    },
    "language_info": {
      "name": "python"
    }
  },
  "cells": [
    {
      "cell_type": "markdown",
      "metadata": {
        "id": "view-in-github",
        "colab_type": "text"
      },
      "source": [
        "<a href=\"https://colab.research.google.com/github/Shraddha-Ingale34/Shraddha-Ingale34.github.io/blob/main/Assignment3_Shraddha.ipynb\" target=\"_parent\"><img src=\"https://colab.research.google.com/assets/colab-badge.svg\" alt=\"Open In Colab\"/></a>"
      ]
    },
    {
      "cell_type": "code",
      "metadata": {
        "id": "27kHC8j7TcRh"
      },
      "source": [
        "import numpy as np\n",
        "import pandas as pd\n",
        "import matplotlib.pyplot as plt\n",
        "import nltk\n",
        "from nltk.corpus import stopwords\n",
        "from collections import Counter\n",
        "import os\n",
        "import glob as glob\n",
        "import string\n",
        "import re\n",
        "import random\n",
        "from bs4 import BeautifulSoup\n",
        "from sklearn.model_selection import KFold"
      ],
      "execution_count": 665,
      "outputs": []
    },
    {
      "cell_type": "code",
      "metadata": {
        "colab": {
          "base_uri": "https://localhost:8080/",
          "height": 195
        },
        "id": "5SW6ziIg9Jzx",
        "outputId": "f69ddb74-88de-4bd7-f08e-5f6f056ab32d"
      },
      "source": [
        "# Upload the file on drive and then copy that path\n",
        "imdb_labelFile = open(r\"/content/drive/MyDrive/Naive Bayes/imdb_labelled.txt\", \"r\")\n",
        "def getReviewTargetFromFile(file):\n",
        "    lines=file.readlines()\n",
        "    file.close()\n",
        "    reviewsentimentList=[]\n",
        "    for l in lines:\n",
        "        x=l.split('\\t')\n",
        "        reviewsentimentList.append([str.lstrip(str.rstrip(x[0])),str.lstrip(str.rstrip(x[1]))])\n",
        "    return reviewsentimentList\n",
        " \n",
        "rtList=getReviewTargetFromFile(imdb_labelFile)\n",
        "rtDF=pd.DataFrame(rtList,columns=['REVIEW','TARGET'])\n",
        "rtDF.to_csv('imdb.csv', index = None)\n",
        "imdb_data = pd.read_csv('imdb.csv')\n",
        "imdb_data.head()"
      ],
      "execution_count": 666,
      "outputs": [
        {
          "output_type": "execute_result",
          "data": {
            "text/html": [
              "<div>\n",
              "<style scoped>\n",
              "    .dataframe tbody tr th:only-of-type {\n",
              "        vertical-align: middle;\n",
              "    }\n",
              "\n",
              "    .dataframe tbody tr th {\n",
              "        vertical-align: top;\n",
              "    }\n",
              "\n",
              "    .dataframe thead th {\n",
              "        text-align: right;\n",
              "    }\n",
              "</style>\n",
              "<table border=\"1\" class=\"dataframe\">\n",
              "  <thead>\n",
              "    <tr style=\"text-align: right;\">\n",
              "      <th></th>\n",
              "      <th>REVIEW</th>\n",
              "      <th>TARGET</th>\n",
              "    </tr>\n",
              "  </thead>\n",
              "  <tbody>\n",
              "    <tr>\n",
              "      <th>0</th>\n",
              "      <td>A very, very, very slow-moving, aimless movie ...</td>\n",
              "      <td>0</td>\n",
              "    </tr>\n",
              "    <tr>\n",
              "      <th>1</th>\n",
              "      <td>Not sure who was more lost - the flat characte...</td>\n",
              "      <td>0</td>\n",
              "    </tr>\n",
              "    <tr>\n",
              "      <th>2</th>\n",
              "      <td>Attempting artiness with black &amp; white and cle...</td>\n",
              "      <td>0</td>\n",
              "    </tr>\n",
              "    <tr>\n",
              "      <th>3</th>\n",
              "      <td>Very little music or anything to speak of.</td>\n",
              "      <td>0</td>\n",
              "    </tr>\n",
              "    <tr>\n",
              "      <th>4</th>\n",
              "      <td>The best scene in the movie was when Gerardo i...</td>\n",
              "      <td>1</td>\n",
              "    </tr>\n",
              "  </tbody>\n",
              "</table>\n",
              "</div>"
            ],
            "text/plain": [
              "                                              REVIEW  TARGET\n",
              "0  A very, very, very slow-moving, aimless movie ...       0\n",
              "1  Not sure who was more lost - the flat characte...       0\n",
              "2  Attempting artiness with black & white and cle...       0\n",
              "3         Very little music or anything to speak of.       0\n",
              "4  The best scene in the movie was when Gerardo i...       1"
            ]
          },
          "metadata": {
            "tags": []
          },
          "execution_count": 666
        }
      ]
    },
    {
      "cell_type": "code",
      "metadata": {
        "colab": {
          "base_uri": "https://localhost:8080/"
        },
        "id": "Hh41LPJiaJ6j",
        "outputId": "797271dc-8f03-44c5-a772-653e1dec2d76"
      },
      "source": [
        "imdb_data.count()"
      ],
      "execution_count": 667,
      "outputs": [
        {
          "output_type": "execute_result",
          "data": {
            "text/plain": [
              "REVIEW    1000\n",
              "TARGET    1000\n",
              "dtype: int64"
            ]
          },
          "metadata": {
            "tags": []
          },
          "execution_count": 667
        }
      ]
    },
    {
      "cell_type": "code",
      "metadata": {
        "colab": {
          "base_uri": "https://localhost:8080/"
        },
        "id": "sSuriqq8SeHf",
        "outputId": "8e3300eb-a470-41e3-c779-da47ce97ad05"
      },
      "source": [
        "#sentiment count\n",
        "imdb_data['TARGET'].value_counts()"
      ],
      "execution_count": 668,
      "outputs": [
        {
          "output_type": "execute_result",
          "data": {
            "text/plain": [
              "1    500\n",
              "0    500\n",
              "Name: TARGET, dtype: int64"
            ]
          },
          "metadata": {
            "tags": []
          },
          "execution_count": 668
        }
      ]
    },
    {
      "cell_type": "code",
      "metadata": {
        "colab": {
          "base_uri": "https://localhost:8080/"
        },
        "id": "3nz-TXgQtLcx",
        "outputId": "3f101a49-a0f6-48ad-9667-b194e9f2d132"
      },
      "source": [
        "import nltk\n",
        "nltk.download('stopwords')\n",
        "nltk.download('wordnet')"
      ],
      "execution_count": 669,
      "outputs": [
        {
          "output_type": "stream",
          "text": [
            "[nltk_data] Downloading package stopwords to /root/nltk_data...\n",
            "[nltk_data]   Package stopwords is already up-to-date!\n",
            "[nltk_data] Downloading package wordnet to /root/nltk_data...\n",
            "[nltk_data]   Package wordnet is already up-to-date!\n"
          ],
          "name": "stdout"
        },
        {
          "output_type": "execute_result",
          "data": {
            "text/plain": [
              "True"
            ]
          },
          "metadata": {
            "tags": []
          },
          "execution_count": 669
        }
      ]
    },
    {
      "cell_type": "code",
      "metadata": {
        "id": "yadYvyQOow6H"
      },
      "source": [
        "df_train = rtDF.sample(frac=0.6)\n",
        "df_dev = rtDF.sample(frac=0.2)\n",
        "df_test = rtDF.sample(frac=0.2)"
      ],
      "execution_count": 670,
      "outputs": []
    },
    {
      "cell_type": "code",
      "metadata": {
        "colab": {
          "base_uri": "https://localhost:8080/"
        },
        "id": "Nmo3_GVno2J5",
        "outputId": "48bf8007-e672-4443-e092-9df02d4d9727"
      },
      "source": [
        "print(\"Size of Train Data :\", len(df_train))\n",
        "print(\"Size of Development Data :\", len(df_dev))\n",
        "print(\"Size of Test Data :\", len(df_test))"
      ],
      "execution_count": 671,
      "outputs": [
        {
          "output_type": "stream",
          "text": [
            "Size of Train Data : 600\n",
            "Size of Development Data : 200\n",
            "Size of Test Data : 200\n"
          ],
          "name": "stdout"
        }
      ]
    },
    {
      "cell_type": "code",
      "metadata": {
        "id": "QtdsIjssuikn"
      },
      "source": [
        "def Word_Count(data):\n",
        "    dev_review = data\n",
        "    unique_words_dev = []\n",
        "    for review in dev_review:\n",
        "        for word in review.split(' '):\n",
        "                unique_words_dev.append(word)\n",
        "    unique_words_dev = Counter(unique_words_dev)\n",
        "    unique_words_dev = Counter({k: n for k, n in unique_words_dev.items() if n > 5}) #removing rare words that occure more than 5\n",
        "    return unique_words_dev"
      ],
      "execution_count": 672,
      "outputs": []
    },
    {
      "cell_type": "code",
      "metadata": {
        "id": "GeoRZehiC5Ya"
      },
      "source": [
        "def probability_wordOccur(data,word,nOfdocs):\n",
        "    idct_data=dict(data)\n",
        "    if word in idct_data.keys():\n",
        "        return idct_data[word] / nOfdocs\n",
        "    else: return 0"
      ],
      "execution_count": 673,
      "outputs": []
    },
    {
      "cell_type": "code",
      "metadata": {
        "id": "Oopefs8LLsuk"
      },
      "source": [
        "wrdcnt = Word_Count(list(list(zip(*rtDF.values))[0]))"
      ],
      "execution_count": 674,
      "outputs": []
    },
    {
      "cell_type": "code",
      "metadata": {
        "colab": {
          "base_uri": "https://localhost:8080/"
        },
        "id": "H6OW0thcG5Z6",
        "outputId": "fc11d430-6a54-4f6a-b9b6-dd7e69181185"
      },
      "source": [
        "print(\"The P['the'] i.e the probablity of 'the' given no of docs is: \",probability_wordOccur(wrdcnt,'the',len(imdb_data)))"
      ],
      "execution_count": 675,
      "outputs": [
        {
          "output_type": "stream",
          "text": [
            "The P['the'] i.e the probablity of 'the' given no of docs is:  0.655\n"
          ],
          "name": "stdout"
        }
      ]
    },
    {
      "cell_type": "code",
      "metadata": {
        "id": "_zH6qLBAehad"
      },
      "source": [
        "def conditional_probability(X,y,word,givenFlag):\n",
        "    group = np.unique(y)\n",
        "    separated = dict()\n",
        "    for sentiment in group:\n",
        "        separated[sentiment] = X[np.where(y == sentiment)]\n",
        "    countpos = dict(Word_Count(separated['1']))\n",
        "    countneg = dict(Word_Count(separated['0']))\n",
        "    \n",
        "    if givenFlag == '1':\n",
        "        if word in countpos.keys():\n",
        "            return countpos[word]/ len(separated['1'])\n",
        "        else: return 0\n",
        "    else:\n",
        "        if word in countneg.keys():\n",
        "            return countneg[word]/ len(separated['0'])\n",
        "        else: return 0"
      ],
      "execution_count": 676,
      "outputs": []
    },
    {
      "cell_type": "code",
      "metadata": {
        "colab": {
          "base_uri": "https://localhost:8080/"
        },
        "id": "i5dgmDsnD3Xq",
        "outputId": "96108969-aa43-4705-d118-74d0a206cca8"
      },
      "source": [
        "X_review = df_train['REVIEW'].values\n",
        "y_target = df_train['TARGET'].values\n",
        "\n",
        "print(\" The P['the'|positive] is:\", conditional_probability(X_review,y_target,'the','1'))"
      ],
      "execution_count": 677,
      "outputs": [
        {
          "output_type": "stream",
          "text": [
            " The P['the'|positive] is: 0.7123745819397993\n"
          ],
          "name": "stdout"
        }
      ]
    },
    {
      "cell_type": "code",
      "metadata": {
        "id": "v-tZ4uAAZnkI"
      },
      "source": [
        "class NaiveBayes:\n",
        "    def __init__(self,X,y,test,alpha,flag):\n",
        "        self.alpha = alpha\n",
        "        self.X = X\n",
        "        self.y = y\n",
        "        self.test = test\n",
        "        self.target = np.unique(y)\n",
        "        self.flag = flag\n",
        "        \n",
        "    \n",
        "    def conditional_prob(self,word,target):\n",
        "        if target == '1':\n",
        "            if word in self.countpositive.keys():\n",
        "                return self.countpositive[word]/ len(self.separated['1'])\n",
        "            else: return 0\n",
        "        else:\n",
        "            if word in self.countnegative.keys():\n",
        "                return self.countnegative[word]/ len(self.separated['0'])\n",
        "            else: return 0\n",
        "            \n",
        "    def probability_wordOcc(self,word):\n",
        "        if word in self.wordcnt.keys():\n",
        "            return self.wordcnt[word] / len(self.X)\n",
        "        else: return 0\n",
        "        \n",
        "    def bayes(self,word,target):\n",
        "        p_word_gvnSenti = self.conditional_prob(word,target)\n",
        "        \n",
        "        p_target = list(self.y).count(target) / len(list(self.y))\n",
        "        \n",
        "        p_word = self.probability_wordOcc(word)\n",
        "        \n",
        "        if p_word == 0:\n",
        "            p_word = 0.0000001\n",
        "        if self.alpha == 0:\n",
        "            return (p_word_gvnSenti*p_target)/p_word  #without smoothing\n",
        "        else:\n",
        "            if word in self.wordcnt.keys():\n",
        "                count = self.wordcnt[word]\n",
        "            else: count = 1\n",
        "            return ((p_word_gvnSenti*p_target) + self.alpha) / (p_word + count) #with smoothing\n",
        "        \n",
        "        \n",
        "    def NB_predict(self):\n",
        "        result = 1\n",
        "        y_pred = []\n",
        "        positive = 0\n",
        "        negative = 0\n",
        "        self.separated = dict()\n",
        "        positivedi = dict()\n",
        "        negativedi = dict()\n",
        "        \n",
        "        self.wordcnt = dict(Word_Count(self.X)) #vocab list\n",
        "        \n",
        "        for i in self.target:\n",
        "            self.separated[i] = self.X[np.where(self.y == i)] \n",
        "        self.countpositive = dict(Word_Count(self.separated['1']))\n",
        "        self.countnegative = dict(Word_Count(self.separated['0']))\n",
        "        \n",
        "        if self.flag != True:\n",
        "            for review in self.test:\n",
        "                for senti in self.target:\n",
        "                    for word in review.split():\n",
        "                        prob = self.bayes(word,senti)\n",
        "                        result = result * prob\n",
        "                    if senti == 1:\n",
        "                        positive = result\n",
        "                    else:\n",
        "                        negative = result\n",
        "\n",
        "                if positive > negative:\n",
        "                    y_pred.append('1')\n",
        "                else: y_pred.append('0')\n",
        "\n",
        "            return y_pred\n",
        "        else:\n",
        "            for word in self.countpositive.keys(): \n",
        "                prob = self.bayes(word,1)\n",
        "                positivedi[word] = prob\n",
        "            for word in self.countnegative.keys(): \n",
        "                prob = self.bayes(word,0)\n",
        "                negativedi[word] = prob\n",
        "            return positivedi,negativedi"
      ],
      "execution_count": 678,
      "outputs": []
    },
    {
      "cell_type": "code",
      "metadata": {
        "id": "hP5bzJGpDjtM"
      },
      "source": [
        "X_dev = df_dev['REVIEW'].values\n",
        "y_dev = df_dev['TARGET'].values"
      ],
      "execution_count": 679,
      "outputs": []
    },
    {
      "cell_type": "code",
      "metadata": {
        "id": "WUJJbv0eKDAf"
      },
      "source": [
        "NBC = NaiveBayes(X_review,y_target,X_dev,0,0)\n",
        "ypred = NBC.NB_predict()"
      ],
      "execution_count": 680,
      "outputs": []
    },
    {
      "cell_type": "code",
      "metadata": {
        "id": "1JNw9y0ILQtz"
      },
      "source": [
        "ypred = np.array(ypred)"
      ],
      "execution_count": 681,
      "outputs": []
    },
    {
      "cell_type": "code",
      "metadata": {
        "id": "OgDAq_-oLV8H"
      },
      "source": [
        "def calculate_accuracy(actual,predicted):\n",
        "    no_correctOfPredict = 0.0\n",
        "    for y_true, y_pred in zip(actual,predicted):\n",
        "        if y_true == y_pred:\n",
        "            no_correctOfPredict += 1\n",
        "    return no_correctOfPredict / float(len(actual)) * 100.0"
      ],
      "execution_count": 682,
      "outputs": []
    },
    {
      "cell_type": "code",
      "metadata": {
        "colab": {
          "base_uri": "https://localhost:8080/"
        },
        "id": "JS4f-Q1NLbFU",
        "outputId": "0f977cdb-1650-466a-f225-a2bf468c21ae"
      },
      "source": [
        "print(\"Accuracy on the development Dataset without smoothing is:\",calculate_accuracy(y_dev,ypred))"
      ],
      "execution_count": 683,
      "outputs": [
        {
          "output_type": "stream",
          "text": [
            "Accuracy on the development Dataset without smoothing is: 42.5\n"
          ],
          "name": "stdout"
        }
      ]
    },
    {
      "cell_type": "code",
      "metadata": {
        "colab": {
          "base_uri": "https://localhost:8080/"
        },
        "id": "HH2QK28ZLkRw",
        "outputId": "b599c593-e21e-43da-908c-e0b25868368f"
      },
      "source": [
        "df_train_short = df_train.sample(frac=0.8)\n",
        "len(df_train_short)"
      ],
      "execution_count": 684,
      "outputs": [
        {
          "output_type": "execute_result",
          "data": {
            "text/plain": [
              "480"
            ]
          },
          "metadata": {
            "tags": []
          },
          "execution_count": 684
        }
      ]
    },
    {
      "cell_type": "code",
      "metadata": {
        "id": "0TT84Iw7L9kp"
      },
      "source": [
        "def cross_validation(data,k,alpha):\n",
        "    dev = 1/k\n",
        "    score = []\n",
        "    for i in range(1, k + 1):\n",
        "        df_dev_cv = data.sample(frac=dev, random_state=i, replace=False).copy(deep=True)\n",
        "        df_train_cv = data.drop(df_dev_cv.index, axis=0).copy(deep=True)\n",
        "        X_dev = df_dev_cv['REVIEW'].values\n",
        "        y_dev = df_dev_cv['TARGET'].values\n",
        "        X_train = df_train_cv['REVIEW'].values\n",
        "        y_train = df_train_cv['TARGET'].values\n",
        "        NBC = NaiveBayes(X_train,y_train,X_dev,alpha,flag= False)\n",
        "        ypred = np.array(NBC.NB_predict())\n",
        "        score.append(calculate_accuracy(y_dev,ypred))\n",
        "    return score"
      ],
      "execution_count": 685,
      "outputs": []
    },
    {
      "cell_type": "code",
      "metadata": {
        "id": "W_l3QcD3MMyZ"
      },
      "source": [
        "score = cross_validation(df_train_short,5,1)"
      ],
      "execution_count": 686,
      "outputs": []
    },
    {
      "cell_type": "code",
      "metadata": {
        "colab": {
          "base_uri": "https://localhost:8080/"
        },
        "id": "JMcygrIdMajy",
        "outputId": "4434b339-0a17-43a8-bcf7-31662937be2d"
      },
      "source": [
        "print(\"Accuracy on development dataset with smoothing with alpha 1 : {} %\".format(np.mean(score)))"
      ],
      "execution_count": 687,
      "outputs": [
        {
          "output_type": "stream",
          "text": [
            "Accuracy on development dataset with smoothing with alpha 1 : 50.416666666666664 %\n"
          ],
          "name": "stdout"
        }
      ]
    },
    {
      "cell_type": "code",
      "metadata": {
        "id": "i-SZ-qPqMjqF"
      },
      "source": [
        "score12 = cross_validation(df_train_short,5,0.001)"
      ],
      "execution_count": 688,
      "outputs": []
    },
    {
      "cell_type": "code",
      "metadata": {
        "colab": {
          "base_uri": "https://localhost:8080/"
        },
        "id": "vGT-L2zJMluE",
        "outputId": "b9920677-4855-42ef-82b8-a5282c8daf38"
      },
      "source": [
        "print(\"Accuracy on development dataset with smoothing with alpha 0.001 : {} %\".format(np.mean(score12)))"
      ],
      "execution_count": 689,
      "outputs": [
        {
          "output_type": "stream",
          "text": [
            "Accuracy on development dataset with smoothing with alpha 0.001 : 50.416666666666664 %\n"
          ],
          "name": "stdout"
        }
      ]
    },
    {
      "cell_type": "code",
      "metadata": {
        "id": "Dbrw8dT_OKxV"
      },
      "source": [
        "positive=dict()\n",
        "wordcount = dict(wrdcnt)\n",
        "NBC = NaiveBayes(X_train,y_train,0,1,flag=True)\n",
        "positive, negative = NBC.NB_predict()"
      ],
      "execution_count": 690,
      "outputs": []
    },
    {
      "cell_type": "code",
      "metadata": {
        "colab": {
          "base_uri": "https://localhost:8080/"
        },
        "id": "xBFOrjW2Qb8H",
        "outputId": "5d3a8e58-1390-478f-a0a7-94349a633dfe"
      },
      "source": [
        "positive"
      ],
      "execution_count": 691,
      "outputs": [
        {
          "output_type": "execute_result",
          "data": {
            "text/plain": [
              "{'10': 0.09983361064891846,\n",
              " 'A': 0.07679508511455267,\n",
              " 'All': 0.1663893510815308,\n",
              " 'But': 0.07130972189208462,\n",
              " 'I': 0.006014072930657739,\n",
              " 'If': 0.0831946755407654,\n",
              " 'It': 0.04340591767344281,\n",
              " \"It's\": 0.07130972189208462,\n",
              " 'The': 0.008460475478721904,\n",
              " 'This': 0.021241193755089035,\n",
              " 'a': 0.004321801326793008,\n",
              " 'about': 0.038397542557276336,\n",
              " 'acting': 0.05872565332289322,\n",
              " 'actors': 0.12479201331114809,\n",
              " 'all': 0.04753981459472308,\n",
              " 'also': 0.07130972189208462,\n",
              " 'an': 0.04340591767344281,\n",
              " 'and': 0.0038997504159733777,\n",
              " 'are': 0.019198771278638168,\n",
              " 'as': 0.016638935108153077,\n",
              " 'at': 0.03119800332778702,\n",
              " 'be': 0.03220439053190918,\n",
              " 'because': 0.06655574043261231,\n",
              " 'best': 0.07130972189208462,\n",
              " 'better': 0.14261944378416924,\n",
              " 'both': 0.12479201331114809,\n",
              " 'but': 0.026272002802346966,\n",
              " 'by': 0.03565486094604231,\n",
              " 'can': 0.06655574043261231,\n",
              " 'characters': 0.06239600665557404,\n",
              " 'do': 0.09983361064891846,\n",
              " 'enjoyed': 0.14261944378416924,\n",
              " 'ever': 0.04991680532445923,\n",
              " 'every': 0.11092623405435385,\n",
              " 'film': 0.01559900166389351,\n",
              " 'film.': 0.05546311702717693,\n",
              " 'films': 0.09075782786265316,\n",
              " 'for': 0.019198771278638168,\n",
              " 'from': 0.03220439053190918,\n",
              " 'funny': 0.1663893510815308,\n",
              " 'give': 0.1663893510815308,\n",
              " 'good': 0.03442538298238568,\n",
              " 'great': 0.05872565332289322,\n",
              " 'had': 0.09983361064891846,\n",
              " 'has': 0.036975411351451284,\n",
              " 'have': 0.038397542557276336,\n",
              " 'he': 0.0415973377703827,\n",
              " 'her': 0.0831946755407654,\n",
              " 'his': 0.04753981459472308,\n",
              " 'if': 0.05546311702717693,\n",
              " 'in': 0.008319467554076539,\n",
              " 'is': 0.0052822016216358975,\n",
              " 'it': 0.014061071922382882,\n",
              " \"it's\": 0.04537891393132658,\n",
              " 'it,': 0.11092623405435385,\n",
              " 'it.': 0.038397542557276336,\n",
              " 'its': 0.09075782786265316,\n",
              " 'just': 0.02852388875683385,\n",
              " 'like': 0.03119800332778702,\n",
              " 'liked': 0.14261944378416924,\n",
              " 'made': 0.05872565332289322,\n",
              " 'many': 0.11092623405435385,\n",
              " 'more': 0.05872565332289322,\n",
              " 'most': 0.04991680532445923,\n",
              " 'movie': 0.011745130664578643,\n",
              " 'movie.': 0.0831946755407654,\n",
              " 'movies': 0.06655574043261231,\n",
              " 'my': 0.05872565332289322,\n",
              " 'never': 0.09075782786265316,\n",
              " 'not': 0.02936282666144661,\n",
              " 'of': 0.004476843526857331,\n",
              " 'on': 0.024958402662229616,\n",
              " 'one': 0.026272002802346966,\n",
              " 'or': 0.05254400560469393,\n",
              " 'other': 0.07679508511455267,\n",
              " 'out': 0.04340591767344281,\n",
              " 'pretty': 0.09983361064891846,\n",
              " 'real': 0.09075782786265316,\n",
              " 'really': 0.05546311702717693,\n",
              " 'saw': 0.09983361064891846,\n",
              " 'see': 0.07130972189208462,\n",
              " 'so': 0.03119800332778702,\n",
              " 'some': 0.05872565332289322,\n",
              " 'story': 0.06655574043261231,\n",
              " 'that': 0.010970726444936095,\n",
              " 'the': 0.0024958402662229617,\n",
              " 'there': 0.05546311702717693,\n",
              " 'think': 0.07130972189208462,\n",
              " 'this': 0.007860914224324288,\n",
              " 'time': 0.07130972189208462,\n",
              " 'to': 0.00723431961224047,\n",
              " 'up': 0.11092623405435385,\n",
              " 'very': 0.030252609287551052,\n",
              " 'was': 0.009243852837862821,\n",
              " 'way': 0.12479201331114809,\n",
              " 'well': 0.0831946755407654,\n",
              " 'were': 0.04991680532445923,\n",
              " 'what': 0.09983361064891846,\n",
              " 'when': 0.05546311702717693,\n",
              " 'which': 0.09075782786265316,\n",
              " 'who': 0.04537891393132658,\n",
              " 'will': 0.09075782786265316,\n",
              " 'with': 0.02218524681087077,\n",
              " 'wonderful': 0.12479201331114809,\n",
              " 'you': 0.03220439053190918,\n",
              " 'your': 0.06655574043261231}"
            ]
          },
          "metadata": {
            "tags": []
          },
          "execution_count": 691
        }
      ]
    },
    {
      "cell_type": "code",
      "metadata": {
        "colab": {
          "base_uri": "https://localhost:8080/"
        },
        "id": "3YO32QixQgYM",
        "outputId": "5de11772-fbcb-4521-ae3a-53df443af514"
      },
      "source": [
        "negative"
      ],
      "execution_count": 692,
      "outputs": [
        {
          "output_type": "execute_result",
          "data": {
            "text/plain": [
              "{'-': 0.05872565332289322,\n",
              " 'A': 0.07679508511455267,\n",
              " 'But': 0.07130972189208462,\n",
              " 'I': 0.006014072930657739,\n",
              " \"I've\": 0.11092623405435385,\n",
              " 'It': 0.04340591767344281,\n",
              " \"It's\": 0.07130972189208462,\n",
              " 'The': 0.008460475478721904,\n",
              " 'There': 0.09075782786265316,\n",
              " 'This': 0.021241193755089035,\n",
              " 'a': 0.004321801326793008,\n",
              " 'about': 0.038397542557276336,\n",
              " 'acting': 0.05872565332289322,\n",
              " 'all': 0.04753981459472308,\n",
              " 'an': 0.04340591767344281,\n",
              " 'and': 0.0038997504159733777,\n",
              " 'any': 0.07130972189208462,\n",
              " 'anyone': 0.09983361064891846,\n",
              " 'are': 0.019198771278638168,\n",
              " 'as': 0.016638935108153077,\n",
              " 'at': 0.03119800332778702,\n",
              " 'bad': 0.0415973377703827,\n",
              " 'bad.': 0.09983361064891846,\n",
              " 'be': 0.03220439053190918,\n",
              " 'because': 0.06655574043261231,\n",
              " 'but': 0.026272002802346966,\n",
              " 'by': 0.03565486094604231,\n",
              " 'can': 0.06655574043261231,\n",
              " 'could': 0.07130972189208462,\n",
              " \"didn't\": 0.07679508511455267,\n",
              " \"don't\": 0.11092623405435385,\n",
              " 'even': 0.06655574043261231,\n",
              " 'ever': 0.04991680532445923,\n",
              " 'film': 0.01559900166389351,\n",
              " 'film.': 0.05546311702717693,\n",
              " 'for': 0.019198771278638168,\n",
              " 'from': 0.03220439053190918,\n",
              " 'has': 0.036975411351451284,\n",
              " 'have': 0.038397542557276336,\n",
              " 'he': 0.0415973377703827,\n",
              " 'his': 0.04753981459472308,\n",
              " 'how': 0.05872565332289322,\n",
              " 'if': 0.05546311702717693,\n",
              " 'in': 0.008319467554076539,\n",
              " 'is': 0.0052822016216358975,\n",
              " 'it': 0.014061071922382882,\n",
              " \"it's\": 0.04537891393132658,\n",
              " 'it.': 0.038397542557276336,\n",
              " 'just': 0.02852388875683385,\n",
              " 'know': 0.14261944378416924,\n",
              " 'like': 0.03119800332778702,\n",
              " 'little': 0.12479201331114809,\n",
              " 'made': 0.05872565332289322,\n",
              " 'make': 0.09075782786265316,\n",
              " 'more': 0.05872565332289322,\n",
              " 'most': 0.04991680532445923,\n",
              " 'movie': 0.011745130664578643,\n",
              " 'much': 0.09075782786265316,\n",
              " 'my': 0.05872565332289322,\n",
              " 'no': 0.05546311702717693,\n",
              " 'not': 0.02936282666144661,\n",
              " 'of': 0.004476843526857331,\n",
              " 'on': 0.024958402662229616,\n",
              " 'one': 0.026272002802346966,\n",
              " 'only': 0.06655574043261231,\n",
              " 'or': 0.05254400560469393,\n",
              " 'out': 0.04340591767344281,\n",
              " 'piece': 0.11092623405435385,\n",
              " 'plot': 0.09075782786265316,\n",
              " 'really': 0.05546311702717693,\n",
              " 'scenes': 0.09983361064891846,\n",
              " 'script': 0.12479201331114809,\n",
              " 'see': 0.07130972189208462,\n",
              " 'so': 0.03119800332778702,\n",
              " 'some': 0.05872565332289322,\n",
              " 'story': 0.06655574043261231,\n",
              " 'than': 0.05872565332289322,\n",
              " 'that': 0.010970726444936095,\n",
              " 'the': 0.0024958402662229617,\n",
              " 'them': 0.12479201331114809,\n",
              " 'there': 0.05546311702717693,\n",
              " 'they': 0.07679508511455267,\n",
              " 'this': 0.007860914224324288,\n",
              " 'those': 0.14261944378416924,\n",
              " 'time': 0.07130972189208462,\n",
              " 'to': 0.00723431961224047,\n",
              " 'totally': 0.12479201331114809,\n",
              " 'very': 0.030252609287551052,\n",
              " 'was': 0.009243852837862821,\n",
              " 'waste': 0.1663893510815308,\n",
              " 'watching': 0.09075782786265316,\n",
              " 'were': 0.04991680532445923,\n",
              " 'when': 0.05546311702717693,\n",
              " 'who': 0.04537891393132658,\n",
              " 'with': 0.02218524681087077,\n",
              " 'work': 0.11092623405435385,\n",
              " 'worst': 0.1663893510815308,\n",
              " 'would': 0.07679508511455267,\n",
              " 'you': 0.03220439053190918,\n",
              " 'your': 0.06655574043261231}"
            ]
          },
          "metadata": {
            "tags": []
          },
          "execution_count": 692
        }
      ]
    },
    {
      "cell_type": "code",
      "metadata": {
        "id": "LsVH-ooXQnlm"
      },
      "source": [
        "df_pos = pd.DataFrame.from_dict(positive, orient='index')\n",
        "df_neg = pd.DataFrame.from_dict(negative, orient='index')"
      ],
      "execution_count": 693,
      "outputs": []
    },
    {
      "cell_type": "code",
      "metadata": {
        "colab": {
          "base_uri": "https://localhost:8080/",
          "height": 343
        },
        "id": "wWL_3wokQynt",
        "outputId": "937ffa10-c4a8-4685-908a-3420d1e179db"
      },
      "source": [
        "df_pos.sort_values(by=0,ascending=False).head(10)"
      ],
      "execution_count": 694,
      "outputs": [
        {
          "output_type": "execute_result",
          "data": {
            "text/html": [
              "<div>\n",
              "<style scoped>\n",
              "    .dataframe tbody tr th:only-of-type {\n",
              "        vertical-align: middle;\n",
              "    }\n",
              "\n",
              "    .dataframe tbody tr th {\n",
              "        vertical-align: top;\n",
              "    }\n",
              "\n",
              "    .dataframe thead th {\n",
              "        text-align: right;\n",
              "    }\n",
              "</style>\n",
              "<table border=\"1\" class=\"dataframe\">\n",
              "  <thead>\n",
              "    <tr style=\"text-align: right;\">\n",
              "      <th></th>\n",
              "      <th>0</th>\n",
              "    </tr>\n",
              "  </thead>\n",
              "  <tbody>\n",
              "    <tr>\n",
              "      <th>funny</th>\n",
              "      <td>0.166389</td>\n",
              "    </tr>\n",
              "    <tr>\n",
              "      <th>give</th>\n",
              "      <td>0.166389</td>\n",
              "    </tr>\n",
              "    <tr>\n",
              "      <th>All</th>\n",
              "      <td>0.166389</td>\n",
              "    </tr>\n",
              "    <tr>\n",
              "      <th>better</th>\n",
              "      <td>0.142619</td>\n",
              "    </tr>\n",
              "    <tr>\n",
              "      <th>liked</th>\n",
              "      <td>0.142619</td>\n",
              "    </tr>\n",
              "    <tr>\n",
              "      <th>enjoyed</th>\n",
              "      <td>0.142619</td>\n",
              "    </tr>\n",
              "    <tr>\n",
              "      <th>wonderful</th>\n",
              "      <td>0.124792</td>\n",
              "    </tr>\n",
              "    <tr>\n",
              "      <th>both</th>\n",
              "      <td>0.124792</td>\n",
              "    </tr>\n",
              "    <tr>\n",
              "      <th>way</th>\n",
              "      <td>0.124792</td>\n",
              "    </tr>\n",
              "    <tr>\n",
              "      <th>actors</th>\n",
              "      <td>0.124792</td>\n",
              "    </tr>\n",
              "  </tbody>\n",
              "</table>\n",
              "</div>"
            ],
            "text/plain": [
              "                  0\n",
              "funny      0.166389\n",
              "give       0.166389\n",
              "All        0.166389\n",
              "better     0.142619\n",
              "liked      0.142619\n",
              "enjoyed    0.142619\n",
              "wonderful  0.124792\n",
              "both       0.124792\n",
              "way        0.124792\n",
              "actors     0.124792"
            ]
          },
          "metadata": {
            "tags": []
          },
          "execution_count": 694
        }
      ]
    },
    {
      "cell_type": "code",
      "metadata": {
        "colab": {
          "base_uri": "https://localhost:8080/",
          "height": 343
        },
        "id": "OMQQU-_tRAAL",
        "outputId": "1e1b8c60-077a-47e9-8682-647d637c8ecd"
      },
      "source": [
        "df_neg.sort_values(by=0,ascending=False).head(10)"
      ],
      "execution_count": 695,
      "outputs": [
        {
          "output_type": "execute_result",
          "data": {
            "text/html": [
              "<div>\n",
              "<style scoped>\n",
              "    .dataframe tbody tr th:only-of-type {\n",
              "        vertical-align: middle;\n",
              "    }\n",
              "\n",
              "    .dataframe tbody tr th {\n",
              "        vertical-align: top;\n",
              "    }\n",
              "\n",
              "    .dataframe thead th {\n",
              "        text-align: right;\n",
              "    }\n",
              "</style>\n",
              "<table border=\"1\" class=\"dataframe\">\n",
              "  <thead>\n",
              "    <tr style=\"text-align: right;\">\n",
              "      <th></th>\n",
              "      <th>0</th>\n",
              "    </tr>\n",
              "  </thead>\n",
              "  <tbody>\n",
              "    <tr>\n",
              "      <th>worst</th>\n",
              "      <td>0.166389</td>\n",
              "    </tr>\n",
              "    <tr>\n",
              "      <th>waste</th>\n",
              "      <td>0.166389</td>\n",
              "    </tr>\n",
              "    <tr>\n",
              "      <th>those</th>\n",
              "      <td>0.142619</td>\n",
              "    </tr>\n",
              "    <tr>\n",
              "      <th>know</th>\n",
              "      <td>0.142619</td>\n",
              "    </tr>\n",
              "    <tr>\n",
              "      <th>little</th>\n",
              "      <td>0.124792</td>\n",
              "    </tr>\n",
              "    <tr>\n",
              "      <th>script</th>\n",
              "      <td>0.124792</td>\n",
              "    </tr>\n",
              "    <tr>\n",
              "      <th>them</th>\n",
              "      <td>0.124792</td>\n",
              "    </tr>\n",
              "    <tr>\n",
              "      <th>totally</th>\n",
              "      <td>0.124792</td>\n",
              "    </tr>\n",
              "    <tr>\n",
              "      <th>work</th>\n",
              "      <td>0.110926</td>\n",
              "    </tr>\n",
              "    <tr>\n",
              "      <th>don't</th>\n",
              "      <td>0.110926</td>\n",
              "    </tr>\n",
              "  </tbody>\n",
              "</table>\n",
              "</div>"
            ],
            "text/plain": [
              "                0\n",
              "worst    0.166389\n",
              "waste    0.166389\n",
              "those    0.142619\n",
              "know     0.142619\n",
              "little   0.124792\n",
              "script   0.124792\n",
              "them     0.124792\n",
              "totally  0.124792\n",
              "work     0.110926\n",
              "don't    0.110926"
            ]
          },
          "metadata": {
            "tags": []
          },
          "execution_count": 695
        }
      ]
    },
    {
      "cell_type": "code",
      "metadata": {
        "id": "MEHFVOLyQ1ZZ"
      },
      "source": [
        "score = cross_validation(df_test,5,1)"
      ],
      "execution_count": 696,
      "outputs": []
    },
    {
      "cell_type": "code",
      "metadata": {
        "colab": {
          "base_uri": "https://localhost:8080/"
        },
        "id": "D7IKVFM8TW0F",
        "outputId": "2b2bcfe0-8b96-435f-def6-1cab700abe49"
      },
      "source": [
        "print(\"Accuracy on test data with smoothing with alpha 1 : {} %\".format(np.mean(score)))"
      ],
      "execution_count": 697,
      "outputs": [
        {
          "output_type": "stream",
          "text": [
            "Accuracy on test data with smoothing with alpha 1 : 58.0 %\n"
          ],
          "name": "stdout"
        }
      ]
    }
  ]
}